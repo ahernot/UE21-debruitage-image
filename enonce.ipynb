{
 "cells": [
  {
   "cell_type": "markdown",
   "metadata": {},
   "source": [
    "# Mini-projet: Débruitage d'image\n",
    "\n",
    "Dans ce mini-projet, nous nous intéressons à différents algorithmes basés sur la transformée de Fourier, qui permettent de débruiter une image en niveaux de gris. \n",
    "\n",
    "D'un point de vue mathématique, une fois échantillonnée, une image n'est rien d'autre qu'un tableau de nombres, chaque nombre codant pour un niveau de gris (0: noir, 255: blanc pour une image encodée sur 8 bits, soit 256 valeurs). Il est donc possible, à l'instar de n'importe quel signal numérique, de calculer sa transformée de Fourier discrète, donnée pour une image de taille $N \\times N$ par:\n",
    "\n",
    "$$\n",
    "\\hat{f}[p, q] = \\sum_{x = 1}^N \\sum_{y = 1}^N f[x, y]\\exp \\bigg[i \\dfrac{2 \\pi }{N}(p x + q y)\\bigg ].\n",
    "$$\n"
   ]
  },
  {
   "cell_type": "code",
   "execution_count": null,
   "metadata": {},
   "outputs": [],
   "source": [
    "import numpy as np\n",
    "import matplotlib.pyplot as plt"
   ]
  },
  {
   "cell_type": "code",
   "execution_count": null,
   "metadata": {},
   "outputs": [],
   "source": [
    "# Load the image using scikit-image library\n",
    "from skimage.io import imread\n",
    "img = imread(\"lena.png\")\n",
    "nx, ny = img.shape\n",
    "npixels = nx*ny"
   ]
  },
  {
   "cell_type": "markdown",
   "metadata": {},
   "source": [
    "## QUESTION 1: Approximation linéaire dans l'espace de Fourier\n",
    "\n",
    "Une propriété très intéressante des images vis à vis de la transformée de Fourier est que ces dernières possèdent très souvent une représentation parcimonieuse dans l'espace de Fourier: si on calcule la transformée de Fourier d'une image, on constate ainsi que la valeur de la plupart des coefficients de Fourier est très souvent négligeable, de sorte que l'image est très bien approximée par la somme de ses modes de Fourier de plus grande amplitude. \n",
    "\n",
    "Calculer la transformée de Fourier de l'image *lena.png*, et implémenter une fonction qui reconstruit l'image originale en ne conservant que les coefficients de Fourier correspondant aux $K$ fréquences les plus basses (approximation dite *linéaire* de l'image). On peut quantifier l'erreur de reconstruction en considérant la quantité:\n",
    "\n",
    "$$\n",
    "\\Delta = \\dfrac{\\|I - I_r\\|_2}{N}\n",
    "$$\n",
    "\n",
    "où $I$ (resp. $I_r$) est l'image originale (resp. reconstruite à partir des $K$ fréquences les plus basses), $\\|\\dot\\|_2$ la norme $L^2$ et $N$ le nombre de pixels dans l'image. Pour quelle valeur de $K$ obtient-on $\\Delta < 0.3$? $\\Delta < 0.1$? L'approximation linéaire est-t'elle intéressante en terme de compression?\n",
    "\n"
   ]
  },
  {
   "cell_type": "code",
   "execution_count": null,
   "metadata": {},
   "outputs": [],
   "source": [
    "def linear_approximation(img, nfreqs):\n",
    "    \n",
    "    \"\"\"\n",
    "    Linear approximation of the image\n",
    "    \n",
    "    :param img: Input image\n",
    "    :type img: 2D numpy array\n",
    "    :param nfreqs: Number of frequencies to keep in each direction\n",
    "    :type nfreqs: int\n",
    "    \n",
    "    :return: Compressed image\n",
    "    :rtype: 2D numpy array\n",
    "    \"\"\"\n",
    "    \n",
    "    # A COMPLETER "
   ]
  },
  {
   "cell_type": "code",
   "execution_count": null,
   "metadata": {},
   "outputs": [],
   "source": [
    "# Représenter sur le même plot l'image et son approximation, pour différents choix de \"nfreqs\"\n",
    "\n",
    "fig, ax = plt.subplots(1, 2, figsize=(12, 24), sharex=True, sharey=True)\n",
    "ax[0].imshow(img, cmap='gray')\n",
    "ax[1].imshow(img_approx_linear, cmap='gray')\n",
    "for a in ax.ravel():\n",
    "    a.set_axis_off()\n",
    "plt.tight_layout()\n",
    "plt.show()"
   ]
  },
  {
   "cell_type": "markdown",
   "metadata": {},
   "source": [
    "## QUESTION 2: Approximation non-linéaire\n",
    "\n",
    "\n",
    "Implémenter une fonction qui reconstruit l'image originale en ne conservant que les $K$ coefficients de Fourier dont les amplitudes sont maximales (approximation dite *non-linéaire* de l'image) et en fixant les autres coefficients à $0$. Pour quelle valeur de $K$ obtient-on $\\Delta < 0.1$? Commenter les résultats obtenus pour différentes valeurs de $K$. \n",
    "\n"
   ]
  },
  {
   "cell_type": "code",
   "execution_count": null,
   "metadata": {},
   "outputs": [],
   "source": [
    "def nonlinear_approximation(img, ncoeffs):\n",
    "    \n",
    "    \"\"\"\n",
    "    Non-linear approximation of the image\n",
    "    \n",
    "    :param img: input image\n",
    "    :type img: 2D numpy array\n",
    "    :param ncoeffs: number of Fourier coefficients to keep\n",
    "    :type nfreqs: int\n",
    "    \n",
    "    :return: compressed image\n",
    "    :rtype: 2D numpy array\n",
    "    \"\"\"\n",
    "    # A COMPLETER"
   ]
  },
  {
   "cell_type": "code",
   "execution_count": null,
   "metadata": {},
   "outputs": [],
   "source": [
    "# Représenter sur le même plot l'image et son approximation, pour différents choix de \"ncoeffs\""
   ]
  },
  {
   "cell_type": "markdown",
   "metadata": {},
   "source": [
    "## QUESTION 3: Image bruitée\n",
    "\n",
    "Bruiter l'image par un bruit gaussien additif de moyenne nulle et d'écart-type $\\sigma = 15$. Afficher l'image originale et l'image bruitée, ainsi que le bruit et la transformée de Fourier du bruit. Comment expliquer la similitude entre les représentations du bruit dans l'espace physique et dans l'espace fréquenciel?\n"
   ]
  },
  {
   "cell_type": "code",
   "execution_count": null,
   "metadata": {},
   "outputs": [],
   "source": [
    "# A compléter: image bruitée"
   ]
  },
  {
   "cell_type": "markdown",
   "metadata": {},
   "source": [
    "## QUESTION 4: Débruitage par seuillage des coefficients de Fourier\n",
    "\n",
    "La transformée de Fourier du bruit semble être répartie relativement uniformément sur l'ensemble des coefficients de Fourier. A l'inverse, on a vu dans la question 2 que l'essentiel de l'énergie de l'image se concentre sur un nombre restreint de coefficients. Une méthode possible pour débruiter l'image peut donc consister à débruiter l'image en fixant à zéro tous les coefficients de Fourier dont l'amplitude dépasse un certain seuil. Débruiter l'image en fixant un seuil au-dessous duquel les coefficients de Fourier sont fixés à zéro. Commenter le résultat obtenu. "
   ]
  },
  {
   "cell_type": "code",
   "execution_count": null,
   "metadata": {},
   "outputs": [],
   "source": [
    "def fourier_thresholding(img, threshold):\n",
    "    \n",
    "    \"\"\"\n",
    "    Denoising by thresholding in a Fourier basis\n",
    "    \n",
    "    :param img: noisy image\n",
    "    :type img: 2D numpy array\n",
    "    \n",
    "    :return: denoised image\n",
    "    :rtype: 2D numpy array\n",
    "    \"\"\"\n",
    "    \n",
    "    # A COMPLETER\n",
    "    "
   ]
  },
  {
   "cell_type": "code",
   "execution_count": null,
   "metadata": {},
   "outputs": [],
   "source": [
    "# A COMPLETER    "
   ]
  },
  {
   "cell_type": "markdown",
   "metadata": {},
   "source": [
    "## QUESTION 5: Filtre médian\n",
    "\n",
    "Une autre approche pour filtrer l'image consiste à remplacer la valeur de chaque pixel par la valeur médiane mesurée dans un voisinage du pixel. Implémenter le filtrage proposé pour un voisinage carré de taille $s$ fixée et appliquer les filtres sur l'image. Commenter le résultat. Pourquoi avoir choisi la médiane dans le voisinage plutôt que la moyenne?"
   ]
  },
  {
   "cell_type": "code",
   "execution_count": null,
   "metadata": {},
   "outputs": [],
   "source": [
    "def median_filter(img, size):\n",
    "    \n",
    "    \"\"\"\n",
    "    Median filter\n",
    "    \n",
    "    :param img: Input image\n",
    "    :type img: 2D numpy array\n",
    "    :param s: Size of the square neighborhood used to compute the filtering\n",
    "    :type s: int\n",
    "    \n",
    "    :return: filtered image\n",
    "    :rtype: 2D numpy array\n",
    "    \"\"\"\n",
    "    # A COMPLETER\n",
    "            "
   ]
  },
  {
   "cell_type": "code",
   "execution_count": null,
   "metadata": {},
   "outputs": [],
   "source": [
    "# A COMPLETER"
   ]
  },
  {
   "cell_type": "markdown",
   "metadata": {},
   "source": [
    "## QUESTION 6: Filtre Gaussien\n",
    "\n",
    "Une autre méthode de filtrage populaire consiste à filtrer l'image par un noyau Gaussien, défini par:\n",
    "\n",
    "$$\n",
    "G(x, y) = \\dfrac{1}{2 \\pi \\sigma^2 }\\exp \\bigg (\\dfrac{x^2 + y^2}{2 \\sigma ^2} \\bigg ).\n",
    "$$\n",
    "\n",
    "Implémenter le filtrage et l'appliquer à l'image bruitée. Donner une interprétation du fonctionnement du filtre."
   ]
  },
  {
   "cell_type": "code",
   "execution_count": null,
   "metadata": {},
   "outputs": [],
   "source": [
    "# A COMPLETER"
   ]
  },
  {
   "cell_type": "markdown",
   "metadata": {},
   "source": [
    "## QUESTION 7: Equation de la chaleur\n",
    "\n",
    "Une méthode de débruitage originale, basée sur une équation aux dérivées partielles, consiste à établir une analogie entre la valeur des pixels et une carte de température. On sait en effet qu'un champ de température tend à s'uniformiser au cours du temps. L'évolution d'un champ de température est modélisée par l'équation de la diffusion de la chaleur: \n",
    "\n",
    "$$\n",
    "\\dfrac{\\partial T}{\\partial t} = - \\lambda \\Delta T\n",
    "$$\n",
    "\n",
    "où l'opérateur Laplacien est donné par\n",
    "\n",
    "$$\n",
    "\\Delta T = \\dfrac{\\partial ^2 T}{\\partial x^2} + \\dfrac{\\partial ^2 T}{\\partial y^2}.\n",
    "$$\n",
    "En résolvant l'équation de la chaleur en prenant comme condition initiale l'image bruitée, on parvient ainsi à lisser (et donc débruiter) l'image.\n",
    "\n",
    "*7.1 Implémenter une fonction permettant de calculer le Laplacien de l'image. On pourra au choix utiliser une discrétisation de type différence finie ou passer par la transformée de Fourier.*"
   ]
  },
  {
   "cell_type": "code",
   "execution_count": null,
   "metadata": {},
   "outputs": [],
   "source": [
    "def laplacian(img):\n",
    "    \n",
    "    \"\"\"\n",
    "    Computes the Laplacian of the image\n",
    "    \n",
    "    :param img: input image\n",
    "    :type img: numpy array\n",
    "    \n",
    "    :return: image laplacian\n",
    "    :rtype: numpy array\n",
    "    \"\"\"\n",
    "    # A COMPLETER"
   ]
  },
  {
   "cell_type": "code",
   "execution_count": null,
   "metadata": {},
   "outputs": [],
   "source": [
    "# A COMPLETER"
   ]
  },
  {
   "cell_type": "markdown",
   "metadata": {},
   "source": [
    "*7.2 Résoudre l'équation de la diffusion à l'aide d'un schéma explicite en temps*"
   ]
  },
  {
   "cell_type": "code",
   "execution_count": null,
   "metadata": {},
   "outputs": [],
   "source": [
    "def diffusion(img, t, tstep):\n",
    "    \n",
    "    \"\"\"\n",
    "    Solves the diffusion equation with \"img\" as initial conditions\n",
    "    \n",
    "    :param img: input image\n",
    "    :type img: numpy array\n",
    "    :param t: final time\n",
    "    :type t: float\n",
    "    :param tstep: time step\n",
    "    :type tstep: float\n",
    "    \n",
    "    :return: image at time t\n",
    "    :rtype: numpy array\n",
    "    \"\"\"\n",
    "    \n",
    "    # A COMPLETER"
   ]
  },
  {
   "cell_type": "code",
   "execution_count": null,
   "metadata": {},
   "outputs": [],
   "source": [
    "# A COMPLETER   "
   ]
  },
  {
   "cell_type": "markdown",
   "metadata": {},
   "source": [
    "*7.3 Question bonus: en reprenant les calculs du TP Analyse numérique, montrer que l'équation de la diffusion et le filtrage gaussien sont en fait des méthodes équivalentes.*"
   ]
  }
 ],
 "metadata": {
  "kernelspec": {
   "display_name": "Python 3",
   "language": "python",
   "name": "python3"
  },
  "language_info": {
   "codemirror_mode": {
    "name": "ipython",
    "version": 3
   },
   "file_extension": ".py",
   "mimetype": "text/x-python",
   "name": "python",
   "nbconvert_exporter": "python",
   "pygments_lexer": "ipython3",
   "version": "3.7.7"
  }
 },
 "nbformat": 4,
 "nbformat_minor": 2
}
